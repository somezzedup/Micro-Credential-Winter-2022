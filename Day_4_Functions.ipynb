{
  "nbformat": 4,
  "nbformat_minor": 0,
  "metadata": {
    "colab": {
      "name": "Day 4 Functions.ipynb",
      "provenance": [],
      "collapsed_sections": [],
      "authorship_tag": "ABX9TyPVH8NigASDjgpd1AXJoVOP",
      "include_colab_link": true
    },
    "kernelspec": {
      "name": "python3",
      "display_name": "Python 3"
    },
    "language_info": {
      "name": "python"
    }
  },
  "cells": [
    {
      "cell_type": "markdown",
      "metadata": {
        "id": "view-in-github",
        "colab_type": "text"
      },
      "source": [
        "<a href=\"https://colab.research.google.com/github/somezzedup/Micro-Credential-Winter-2022/blob/main/Day_4_Functions.ipynb\" target=\"_parent\"><img src=\"https://colab.research.google.com/assets/colab-badge.svg\" alt=\"Open In Colab\"/></a>"
      ]
    },
    {
      "cell_type": "markdown",
      "source": [
        "#Functions\n",
        "\n",
        "Functions\n",
        "So what is a function?\n",
        "\n",
        "Formally, a function is a useful device that groups together a set of statements so they can be run more than once. They can also let us specify parameters that can serve as inputs to the functions.\n",
        "\n",
        "On a more fundamental level, functions allow us to not have to repeatedly write the same code again and again. If you remember back to the lessons on strings and lists, remember that we used a function len() to get the length of a string. Since checking the length of a sequence is a common task you would want to write a function that can do this repeatedly at command.\n",
        "\n",
        "Functions will be one of most basic levels of reusing code in Python, and it will also allow us to start thinking of program design (we will dive much deeper into the ideas of design when we learn about Object Oriented Programming)."
      ],
      "metadata": {
        "id": "S1zSvDr2xlUv"
      }
    },
    {
      "cell_type": "markdown",
      "source": [
        "#def Statements\n",
        "Let's see how to build out a function's syntax in Python. It has the following form:"
      ],
      "metadata": {
        "id": "UyF2Lqo8xlIv"
      }
    },
    {
      "cell_type": "code",
      "execution_count": null,
      "metadata": {
        "colab": {
          "base_uri": "https://localhost:8080/"
        },
        "id": "WsqrPC34u_tG",
        "outputId": "2a4d6f1d-b996-425f-aa13-a438db3e9764"
      },
      "outputs": [
        {
          "output_type": "stream",
          "name": "stdout",
          "text": [
            "Hello There\n"
          ]
        }
      ],
      "source": [
        "def name_of_function(arg1,arg2):\n",
        "    '''\n",
        "    This is where the function's Document String (doc-string) goes\n",
        "    '''\n",
        "    # Do stuff here\n",
        "    #return desired result"
      ]
    },
    {
      "cell_type": "code",
      "source": [
        "def greeting():\n",
        "  \"\"\"\n",
        "  Author: Who did this function\n",
        "  Input: What argument the function takes\n",
        "  Output: This function displays a greeting\"\"\"\n",
        "  print(\"Hello There!\")\n",
        "  \n",
        "greeting()"
      ],
      "metadata": {
        "colab": {
          "base_uri": "https://localhost:8080/"
        },
        "id": "jXZNXQ6Jxkgs",
        "outputId": "3ad0c479-8001-4650-946a-7cba24bc0706"
      },
      "execution_count": null,
      "outputs": [
        {
          "output_type": "stream",
          "name": "stdout",
          "text": [
            "Hello There!\n"
          ]
        }
      ]
    },
    {
      "cell_type": "code",
      "source": [
        "greeting()"
      ],
      "metadata": {
        "colab": {
          "base_uri": "https://localhost:8080/"
        },
        "id": "YDe1LauxxkcY",
        "outputId": "ca429dc2-22d5-453e-89eb-fef84ca23d8a"
      },
      "execution_count": null,
      "outputs": [
        {
          "output_type": "stream",
          "name": "stdout",
          "text": [
            "Hello There!\n"
          ]
        }
      ]
    },
    {
      "cell_type": "code",
      "source": [
        "help(greeting)"
      ],
      "metadata": {
        "colab": {
          "base_uri": "https://localhost:8080/"
        },
        "id": "CX1RUBKvxkR2",
        "outputId": "98626589-3699-484d-ff43-3ed0f6fbbb6a"
      },
      "execution_count": null,
      "outputs": [
        {
          "output_type": "stream",
          "name": "stdout",
          "text": [
            "Help on function greeting in module __main__:\n",
            "\n",
            "greeting()\n",
            "    Author: Who did this function\n",
            "    Input: What argument the function takes\n",
            "    Output: This function displays a greeting\n",
            "\n"
          ]
        }
      ]
    },
    {
      "cell_type": "code",
      "source": [
        "def lazy():\n",
        "  \"\"\"\n",
        "  Author: Mez\n",
        "  Input: Enter your name\n",
        "  Output: Prints out a statement hi there with your name\n",
        "  \"\"\"\n",
        "  name = input('Enter your Name ')\n",
        "  print(f'hi there {name}')\n",
        "lazy()"
      ],
      "metadata": {
        "id": "2ieJiAXwzq_x",
        "colab": {
          "base_uri": "https://localhost:8080/"
        },
        "outputId": "1c474bab-8e04-4182-9c92-b7a61eb82b69"
      },
      "execution_count": null,
      "outputs": [
        {
          "output_type": "stream",
          "name": "stdout",
          "text": [
            "Enter your Name mez\n",
            "hi there mez\n"
          ]
        }
      ]
    },
    {
      "cell_type": "code",
      "source": [
        "def add_num(num1, num2):\n",
        "  return(num1+num2)"
      ],
      "metadata": {
        "id": "DYzOTolczq8n"
      },
      "execution_count": null,
      "outputs": []
    },
    {
      "cell_type": "code",
      "source": [
        "add_num(3,6)"
      ],
      "metadata": {
        "id": "GtiJscrjzq5M",
        "colab": {
          "base_uri": "https://localhost:8080/"
        },
        "outputId": "db0f68da-c4cc-4071-eed1-10a2f632f84d"
      },
      "execution_count": null,
      "outputs": [
        {
          "output_type": "execute_result",
          "data": {
            "text/plain": [
              "9"
            ]
          },
          "metadata": {},
          "execution_count": 15
        }
      ]
    },
    {
      "cell_type": "code",
      "source": [
        "def sub_num(num1, num2):\n",
        "  return num1-num2"
      ],
      "metadata": {
        "id": "QuRok-5Tzq1y"
      },
      "execution_count": null,
      "outputs": []
    },
    {
      "cell_type": "code",
      "source": [
        "sub_num(6,3)"
      ],
      "metadata": {
        "id": "LPQNAo2VzqxF",
        "colab": {
          "base_uri": "https://localhost:8080/"
        },
        "outputId": "b002c12a-4de5-4f68-c49e-70469480c577"
      },
      "execution_count": null,
      "outputs": [
        {
          "output_type": "execute_result",
          "data": {
            "text/plain": [
              "3"
            ]
          },
          "metadata": {},
          "execution_count": 21
        }
      ]
    },
    {
      "cell_type": "code",
      "source": [
        "#Simple Calcualtor\n",
        "\n",
        "# Function to add two numbers \n",
        "def add(num1, num2):\n",
        "    return num1 + num2\n",
        "  \n",
        "# Function to subtract two numbers \n",
        "def subtract(num1, num2):\n",
        "    return num1 - num2\n",
        "  \n",
        "# Function to multiply two numbers\n",
        "def multiply(num1, num2):\n",
        "    return num1 * num2\n",
        "  \n",
        "# Function to divide two numbers\n",
        "def divide(num1, num2):\n",
        "    return num1 / num2\n",
        "\n",
        "# Function for exponential \n",
        "def pow(num1, num2):\n",
        "    return num1**num2\n",
        "\n",
        "# Function for modulo\n",
        "def mod(num1,num2):\n",
        "    return num1%num2\n",
        "  \n",
        "print(\"Please select from the following operation: \\n\" \n",
        "        \"1. Add\\n\" \n",
        "        \"2. Subtract\\n\" \n",
        "        \"3. Multiply\\n\" \n",
        "        \"4. Divide\\n\" \n",
        "        \"5. Exponential\\n\" \n",
        "      )\n",
        "\n",
        "  \n",
        "# Take input from the user \n",
        "while True:\n",
        "\n",
        "  select = int(input(\"Select operations from 1, 2, 3, 4, 5 \"))\n",
        "  \n",
        "  number_1 = float(input(\"Enter first number: \"))\n",
        "  number_2 = float(input(\"Enter second number: \"))\n",
        "  \n",
        "  if select == 1:\n",
        "     print(number_1, \"+\", number_2, \"=\",\n",
        "                    add(number_1, number_2))\n",
        "  \n",
        "  elif select == 2:\n",
        "      print(number_1, \"-\", number_2, \"=\",\n",
        "                    subtract(number_1, number_2))\n",
        "  \n",
        "  elif select == 3:\n",
        "     print(number_1, \"*\", number_2, \"=\",\n",
        "                    multiply(number_1, number_2))\n",
        "  \n",
        "  elif select == 4:\n",
        "      print(number_1, \"/\", number_2, \"=\",\n",
        "                    divide(number_1, number_2))\n",
        "  \n",
        "  elif select == 5:\n",
        "      print(number_1, \"**\", number_2, \"=\",\n",
        "                    pow(number_1, number_2))\n",
        "  \n",
        "  else:\n",
        "      print(\"Invalid input\")\n",
        "\n",
        "# check if user wants another calculation\n",
        "# break the while loop if answer is no\n",
        "  next_calculation = input(\"Do you want to continue calculations? (yes/no): \")\n",
        "  if next_calculation == \"no\":\n",
        "    print(\"Have a good day!\")\n",
        "    break\n",
        "  \n",
        "  else:\n",
        "    print(\"Continuing...\")\n"
      ],
      "metadata": {
        "id": "ivcV_s6-zqtJ",
        "colab": {
          "base_uri": "https://localhost:8080/"
        },
        "outputId": "eda64116-48ed-46b0-8259-6c8616055ee6"
      },
      "execution_count": null,
      "outputs": [
        {
          "output_type": "stream",
          "name": "stdout",
          "text": [
            "Please select from the following operation: \n",
            "1. Add\n",
            "2. Subtract\n",
            "3. Multiply\n",
            "4. Divide\n",
            "5. Exponential\n",
            "\n",
            "Select operations from 1, 2, 3, 4, 5 5\n",
            "Enter first number: 2\n",
            "Enter second number: 3\n",
            "2.0 ** 3.0 = 8.0\n",
            "Do you want to continue calculations? (yes/no): no\n",
            "Have a good day!\n"
          ]
        }
      ]
    },
    {
      "cell_type": "code",
      "source": [
        "def greeting(first_name, last_name, age):\n",
        "  print(f\"Hi There {first_name}, {last_name}... you are {age} years old\")\n",
        " "
      ],
      "metadata": {
        "id": "6Q7CUld8zqp6"
      },
      "execution_count": 77,
      "outputs": []
    },
    {
      "cell_type": "code",
      "source": [
        "def greeting2(name='Mark'):\n",
        "  print(f\"hi there {name}\")\n"
      ],
      "metadata": {
        "id": "fYyNG7Sp-i5T"
      },
      "execution_count": 80,
      "outputs": []
    },
    {
      "cell_type": "code",
      "source": [
        "greeting2()"
      ],
      "metadata": {
        "id": "eZxjk3oezqi7",
        "colab": {
          "base_uri": "https://localhost:8080/"
        },
        "outputId": "68e177ea-2246-40e5-d2e9-7ed0a271ba93"
      },
      "execution_count": 81,
      "outputs": [
        {
          "output_type": "stream",
          "name": "stdout",
          "text": [
            "hi there Mark\n"
          ]
        }
      ]
    },
    {
      "cell_type": "code",
      "source": [
        "#Write a function that checks if a number is prime \n",
        "\n",
        "#user input \n",
        "num = int(input(\"Enter a number: \"))\n",
        "  \n",
        "# If given number is greater than 1\n",
        "if num > 1:\n",
        "  \n",
        "    # Iterate from 2 to user input\n",
        "    for i in range(2, num):\n",
        "  \n",
        "        # If num is divisible by any number between  # 2 and n / 2, it is not prime\n",
        "        if (num % i) == 0:\n",
        "            print(num, \"is not a prime number\")\n",
        "            break\n",
        "    else:\n",
        "        print(num, \"is a prime number\")\n",
        "  \n",
        "else:\n",
        "    print(num, \"is not a prime number\")"
      ],
      "metadata": {
        "colab": {
          "base_uri": "https://localhost:8080/"
        },
        "id": "gj3dJhWSfJMc",
        "outputId": "b0da4257-1622-4f2a-94b1-793bb0c99581"
      },
      "execution_count": 99,
      "outputs": [
        {
          "output_type": "stream",
          "name": "stdout",
          "text": [
            "Enter a number: 59\n",
            "59 is a prime number\n"
          ]
        }
      ]
    },
    {
      "cell_type": "code",
      "source": [
        ""
      ],
      "metadata": {
        "id": "OffvoWsUf0E3"
      },
      "execution_count": null,
      "outputs": []
    }
  ]
}
{
  "nbformat": 4,
  "nbformat_minor": 0,
  "metadata": {
    "colab": {
      "name": "Day 4 MiniProject.ipynb",
      "provenance": [],
      "collapsed_sections": [],
      "authorship_tag": "ABX9TyPcTWGi1oLoYNMgsclNadYa",
      "include_colab_link": true
    },
    "kernelspec": {
      "name": "python3",
      "display_name": "Python 3"
    },
    "language_info": {
      "name": "python"
    }
  },
  "cells": [
    {
      "cell_type": "markdown",
      "metadata": {
        "id": "view-in-github",
        "colab_type": "text"
      },
      "source": [
        "<a href=\"https://colab.research.google.com/github/somezzedup/Micro-Credential-Winter-2022/blob/main/Day_4_MiniProject.ipynb\" target=\"_parent\"><img src=\"https://colab.research.google.com/assets/colab-badge.svg\" alt=\"Open In Colab\"/></a>"
      ]
    },
    {
      "cell_type": "markdown",
      "source": [
        "Ask the user for a number. Depending on whether the number is even or odd, print out an\n",
        "appropriate message to the user. Hint: how does an even / odd number react differently\n",
        "when divided by 2?\n",
        "\n",
        "Bonus:\n",
        "\n",
        "If the number is a multiple of 4, print out a different message.\n",
        "\n",
        "Ask the user for two numbers: one number to check (call it num) and one number to divide\n",
        "by (check). If check divides evenly into num, tell that to the user. If not, print a different\n",
        "appropriate message.\n",
        "\n",
        "Write a custom function for finding whether the number is even or odd and call it in your\n",
        "main program code."
      ],
      "metadata": {
        "id": "DbKeZM3St3mI"
      }
    },
    {
      "cell_type": "code",
      "source": [
        "\"\"\"\n",
        "Author:Mezbahuddin Prottoy\n",
        "Input: User enter any integer that they choose\n",
        "Output: Based on user input, program will tell you if your number is even or odd,\n",
        "multiple by 4, and if two number is divided evenly\n",
        "\n",
        "\"\"\"\n",
        "\n",
        "num = int(input(\"Enter a number: \"))\n",
        "\n",
        "oddEvenCheck(num)\n",
        "\n",
        "def oddEvenCheck(x):\n",
        "  #if a number remainder is 0 then it is a even number \n",
        "  if(x % 2) == 0:\n",
        "    print(num, 'is an even number')\n",
        "    #(x % 4) is a way of checking if a number is a multiple of 4\n",
        "    if(x % 4 ) == 0:\n",
        "      print(num, 'is also a multiple of 4')\n",
        "  else: \n",
        "    print(num, 'is an odd number')\n",
        "\n",
        "\n",
        "#Checking to see if number divide evenly  \n",
        "num = int(input(\"Enter a number: \"))\n",
        "check = int(input(\"Enter a another number: \"))\n",
        "\n",
        "divideEvenly(num,check)\n",
        "\n",
        "def divideEvenly(a,b):\n",
        "  #if two numbers are divided and their remainder is 0 than it is divided evenly \n",
        "  if(a % b) == 0:\n",
        "    print(\"Number is divided evenly\")\n",
        "  else:\n",
        "    print(\"Number does not divide evenly\")"
      ],
      "metadata": {
        "colab": {
          "base_uri": "https://localhost:8080/"
        },
        "id": "EQqnguGSwEV4",
        "outputId": "01ef3400-8556-46cf-f116-9534eebb660a"
      },
      "execution_count": 25,
      "outputs": [
        {
          "output_type": "stream",
          "name": "stdout",
          "text": [
            "Enter a number: 5\n",
            "5 is an odd number\n",
            "Enter a number: 5\n",
            "Enter a another number: 7\n",
            "Number does not divide evenly\n"
          ]
        }
      ]
    }
  ]
}
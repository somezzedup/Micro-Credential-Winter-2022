{
  "nbformat": 4,
  "nbformat_minor": 0,
  "metadata": {
    "colab": {
      "name": "Day 3 For Loops.ipynb",
      "provenance": [],
      "collapsed_sections": [],
      "authorship_tag": "ABX9TyOoRbZoDpihz4SNaLz2/NND",
      "include_colab_link": true
    },
    "kernelspec": {
      "name": "python3",
      "display_name": "Python 3"
    },
    "language_info": {
      "name": "python"
    }
  },
  "cells": [
    {
      "cell_type": "markdown",
      "metadata": {
        "id": "view-in-github",
        "colab_type": "text"
      },
      "source": [
        "<a href=\"https://colab.research.google.com/github/somezzedup/Micro-Credential-Winter-2022/blob/main/Day_3_For_Loops.ipynb\" target=\"_parent\"><img src=\"https://colab.research.google.com/assets/colab-badge.svg\" alt=\"Open In Colab\"/></a>"
      ]
    },
    {
      "cell_type": "markdown",
      "source": [
        "#For Loops"
      ],
      "metadata": {
        "id": "XmyloJte8SPs"
      }
    },
    {
      "cell_type": "code",
      "source": [
        "for x in 'CUNY':\n",
        "  print(x)"
      ],
      "metadata": {
        "colab": {
          "base_uri": "https://localhost:8080/"
        },
        "id": "5WaC5Bmf8cQL",
        "outputId": "0c1777f0-9d77-4e18-c39a-e04eea78d32d"
      },
      "execution_count": 2,
      "outputs": [
        {
          "output_type": "stream",
          "name": "stdout",
          "text": [
            "C\n",
            "U\n",
            "N\n",
            "Y\n"
          ]
        }
      ]
    },
    {
      "cell_type": "code",
      "source": [
        "\n",
        "TV_SHOWS=['Game of Thrones', 'Loki','The Mandalorian', 'Breaking Bad']\n",
        "for i in TV_SHOWS:\n",
        "  print(i)"
      ],
      "metadata": {
        "colab": {
          "base_uri": "https://localhost:8080/"
        },
        "id": "UlKsPEVn8cMw",
        "outputId": "975d9c82-e593-47e8-930f-0001f3cec90c"
      },
      "execution_count": 3,
      "outputs": [
        {
          "output_type": "stream",
          "name": "stdout",
          "text": [
            "Game of Thrones\n",
            "Loki\n",
            "The Mandalorian\n",
            "Breaking Bad\n"
          ]
        }
      ]
    },
    {
      "cell_type": "code",
      "source": [
        "#show variable only exist if loop is still active\n",
        "for show in TV_SHOWS:\n",
        "  print(show)"
      ],
      "metadata": {
        "colab": {
          "base_uri": "https://localhost:8080/"
        },
        "id": "4Xmqt57q8t3s",
        "outputId": "ac6c653a-1157-42aa-c43b-e4d8972c99f0"
      },
      "execution_count": 4,
      "outputs": [
        {
          "output_type": "stream",
          "name": "stdout",
          "text": [
            "Game of Thrones\n",
            "Loki\n",
            "The Mandalorian\n",
            "Breaking Bad\n"
          ]
        }
      ]
    },
    {
      "cell_type": "code",
      "source": [
        "show"
      ],
      "metadata": {
        "colab": {
          "base_uri": "https://localhost:8080/",
          "height": 35
        },
        "id": "dzXQjwfZ8zxY",
        "outputId": "0c70f252-3c0a-496a-d579-03e50066864c"
      },
      "execution_count": 6,
      "outputs": [
        {
          "output_type": "execute_result",
          "data": {
            "application/vnd.google.colaboratory.intrinsic+json": {
              "type": "string"
            },
            "text/plain": [
              "'Breaking Bad'"
            ]
          },
          "metadata": {},
          "execution_count": 6
        }
      ]
    },
    {
      "cell_type": "code",
      "source": [
        "#build in method show.title() utilized in for loops\n",
        "for show in TV_SHOWS:\n",
        "  print(show.title() + \", is one of my favorite tv shows\")"
      ],
      "metadata": {
        "colab": {
          "base_uri": "https://localhost:8080/"
        },
        "id": "-Xy9KJHF8zuL",
        "outputId": "e40995b2-c5b4-4dc1-bcc8-ab72b4721f56"
      },
      "execution_count": 9,
      "outputs": [
        {
          "output_type": "stream",
          "name": "stdout",
          "text": [
            "Game Of Thrones, is one of my favorite tv shows\n",
            "Loki, is one of my favorite tv shows\n",
            "The Mandalorian, is one of my favorite tv shows\n",
            "Breaking Bad, is one of my favorite tv shows\n"
          ]
        }
      ]
    },
    {
      "cell_type": "code",
      "source": [
        "for show in TV_SHOWS:\n",
        "  print(show.upper() + \", is one of my favorite tv shows\")"
      ],
      "metadata": {
        "colab": {
          "base_uri": "https://localhost:8080/"
        },
        "id": "GQW4wkTq8zqh",
        "outputId": "7d72511b-0395-4bc9-ffaf-7755d3f686a4"
      },
      "execution_count": 10,
      "outputs": [
        {
          "output_type": "stream",
          "name": "stdout",
          "text": [
            "GAME OF THRONES, is one of my favorite tv shows\n",
            "LOKI, is one of my favorite tv shows\n",
            "THE MANDALORIAN, is one of my favorite tv shows\n",
            "BREAKING BAD, is one of my favorite tv shows\n"
          ]
        }
      ]
    },
    {
      "cell_type": "code",
      "source": [
        "TV_SHOWS.append('Money Heist')\n",
        "TV_SHOWS.append('Kobra Kai')\n",
        "TV_SHOWS.append('Squid Game')\n"
      ],
      "metadata": {
        "id": "_4kxHXsB-ou5"
      },
      "execution_count": 12,
      "outputs": []
    },
    {
      "cell_type": "code",
      "source": [
        "print(TV_SHOWS)"
      ],
      "metadata": {
        "colab": {
          "base_uri": "https://localhost:8080/"
        },
        "id": "m1vXKqJN-osB",
        "outputId": "18d1416a-41a5-4941-82d1-a420ec2734ab"
      },
      "execution_count": 13,
      "outputs": [
        {
          "output_type": "stream",
          "name": "stdout",
          "text": [
            "['Game of Thrones', 'Loki', 'The Mandalorian', 'Breaking Bad', 'Money Heist', 'Money Heist', 'Kobra Kai', 'Squid Game']\n"
          ]
        }
      ]
    },
    {
      "cell_type": "code",
      "source": [
        "for show in TV_SHOWS:\n",
        "  print(show.title() + \", is one of my favorite tv shows\\n I can't wait to watch \" + show.upper() + \" again \\n\")"
      ],
      "metadata": {
        "colab": {
          "base_uri": "https://localhost:8080/"
        },
        "id": "HYx8y53e-oo1",
        "outputId": "b20c6b98-659c-41c9-c690-dafc5d0406e8"
      },
      "execution_count": 16,
      "outputs": [
        {
          "output_type": "stream",
          "name": "stdout",
          "text": [
            "Game Of Thrones, is one of my favorite tv shows\n",
            " I can't wait to watch GAME OF THRONES again \n",
            "\n",
            "Loki, is one of my favorite tv shows\n",
            " I can't wait to watch LOKI again \n",
            "\n",
            "The Mandalorian, is one of my favorite tv shows\n",
            " I can't wait to watch THE MANDALORIAN again \n",
            "\n",
            "Breaking Bad, is one of my favorite tv shows\n",
            " I can't wait to watch BREAKING BAD again \n",
            "\n",
            "Money Heist, is one of my favorite tv shows\n",
            " I can't wait to watch MONEY HEIST again \n",
            "\n",
            "Money Heist, is one of my favorite tv shows\n",
            " I can't wait to watch MONEY HEIST again \n",
            "\n",
            "Kobra Kai, is one of my favorite tv shows\n",
            " I can't wait to watch KOBRA KAI again \n",
            "\n",
            "Squid Game, is one of my favorite tv shows\n",
            " I can't wait to watch SQUID GAME again \n",
            "\n"
          ]
        }
      ]
    },
    {
      "cell_type": "code",
      "source": [
        "del TV_SHOWS[-3] "
      ],
      "metadata": {
        "id": "nBhCRhjH-ol-"
      },
      "execution_count": 19,
      "outputs": []
    },
    {
      "cell_type": "code",
      "source": [
        "print(TV_SHOWS)"
      ],
      "metadata": {
        "colab": {
          "base_uri": "https://localhost:8080/"
        },
        "id": "EzxA9fuK-oj2",
        "outputId": "853a89d1-41d4-4e79-f75a-dc62531e987e"
      },
      "execution_count": 20,
      "outputs": [
        {
          "output_type": "stream",
          "name": "stdout",
          "text": [
            "['Game of Thrones', 'Loki', 'The Mandalorian', 'Breaking Bad', 'Money Heist', 'Kobra Kai', 'Squid Game']\n"
          ]
        }
      ]
    },
    {
      "cell_type": "code",
      "source": [
        "for x in range(1,10):\n",
        "  print(x+2)"
      ],
      "metadata": {
        "colab": {
          "base_uri": "https://localhost:8080/"
        },
        "id": "dEx_PqtH-ogh",
        "outputId": "39d1133d-de29-46ee-eaeb-8e7ea49a749d"
      },
      "execution_count": 24,
      "outputs": [
        {
          "output_type": "stream",
          "name": "stdout",
          "text": [
            "3\n",
            "4\n",
            "5\n",
            "6\n",
            "7\n",
            "8\n",
            "9\n",
            "10\n",
            "11\n"
          ]
        }
      ]
    },
    {
      "cell_type": "code",
      "source": [
        "# list numbers from 1 to 9\n",
        "list(range(1,10))"
      ],
      "metadata": {
        "colab": {
          "base_uri": "https://localhost:8080/"
        },
        "id": "IwgrZkHH-odk",
        "outputId": "cdd0771c-5667-47d1-c7f5-08a3921a4c8a"
      },
      "execution_count": 26,
      "outputs": [
        {
          "output_type": "execute_result",
          "data": {
            "text/plain": [
              "[1, 2, 3, 4, 5, 6, 7, 8, 9]"
            ]
          },
          "metadata": {},
          "execution_count": 26
        }
      ]
    },
    {
      "cell_type": "code",
      "source": [
        "# counts every 5 number \n",
        "list(range(1,21,5))"
      ],
      "metadata": {
        "colab": {
          "base_uri": "https://localhost:8080/"
        },
        "id": "Lm-YOWx7-oY-",
        "outputId": "3e6d604e-7324-442a-dcf3-f43e9f7d5b86"
      },
      "execution_count": 28,
      "outputs": [
        {
          "output_type": "execute_result",
          "data": {
            "text/plain": [
              "[1, 6, 11, 16]"
            ]
          },
          "metadata": {},
          "execution_count": 28
        }
      ]
    },
    {
      "cell_type": "code",
      "source": [
        "17%2"
      ],
      "metadata": {
        "colab": {
          "base_uri": "https://localhost:8080/"
        },
        "id": "ifZ2Gk5rBn74",
        "outputId": "f286276c-5d06-4bd4-af20-8d5d3a4cd0d7"
      },
      "execution_count": 33,
      "outputs": [
        {
          "output_type": "execute_result",
          "data": {
            "text/plain": [
              "1"
            ]
          },
          "metadata": {},
          "execution_count": 33
        }
      ]
    },
    {
      "cell_type": "code",
      "source": [
        "18%7"
      ],
      "metadata": {
        "colab": {
          "base_uri": "https://localhost:8080/"
        },
        "id": "ZUw1j2qSDmRy",
        "outputId": "b27a34d0-08de-49f2-e810-cbe50aa3e2f1"
      },
      "execution_count": 34,
      "outputs": [
        {
          "output_type": "execute_result",
          "data": {
            "text/plain": [
              "4"
            ]
          },
          "metadata": {},
          "execution_count": 34
        }
      ]
    },
    {
      "cell_type": "code",
      "source": [
        "l=[1,2,3,4,5,6,7,8,9,10,23,55,67,89,103,234,402,2320]"
      ],
      "metadata": {
        "id": "9rYmclHzEJQg"
      },
      "execution_count": 41,
      "outputs": []
    },
    {
      "cell_type": "code",
      "source": [
        "#prints out even number\n",
        "for num in l:\n",
        "  if num % 2 == 0:\n",
        "    print(num)"
      ],
      "metadata": {
        "colab": {
          "base_uri": "https://localhost:8080/"
        },
        "id": "AQbzQMl5DmLP",
        "outputId": "924d7b94-7da0-44cb-c841-ac3557fa9404"
      },
      "execution_count": 42,
      "outputs": [
        {
          "output_type": "stream",
          "name": "stdout",
          "text": [
            "2\n",
            "4\n",
            "6\n",
            "8\n",
            "10\n",
            "234\n",
            "402\n",
            "2320\n"
          ]
        }
      ]
    },
    {
      "cell_type": "code",
      "source": [
        "for x in l:\n",
        "  if x % 2 == 0:\n",
        "    print(x)"
      ],
      "metadata": {
        "colab": {
          "base_uri": "https://localhost:8080/"
        },
        "id": "6MLA8j00DmHw",
        "outputId": "d6cf0fea-60f5-40bb-bf20-36183620f1f2"
      },
      "execution_count": 43,
      "outputs": [
        {
          "output_type": "stream",
          "name": "stdout",
          "text": [
            "2\n",
            "4\n",
            "6\n",
            "8\n",
            "10\n",
            "234\n",
            "402\n",
            "2320\n"
          ]
        }
      ]
    },
    {
      "cell_type": "code",
      "source": [
        "#printing out odd number and utilizing else conditional statement\n",
        "for x in l:\n",
        "  if x % 2 == 1:\n",
        "    print(x)\n",
        "  else:\n",
        "    print(x, \"this is not a odd number\")"
      ],
      "metadata": {
        "colab": {
          "base_uri": "https://localhost:8080/"
        },
        "id": "iEk35FvODmDD",
        "outputId": "03ba1732-982b-4777-ba1e-111963706c51"
      },
      "execution_count": 48,
      "outputs": [
        {
          "output_type": "stream",
          "name": "stdout",
          "text": [
            "1\n",
            "2 this is not a odd number\n",
            "3\n",
            "4 this is not a odd number\n",
            "5\n",
            "6 this is not a odd number\n",
            "7\n",
            "8 this is not a odd number\n",
            "9\n",
            "10 this is not a odd number\n",
            "23\n",
            "55\n",
            "67\n",
            "89\n",
            "103\n",
            "234 this is not a odd number\n",
            "402 this is not a odd number\n",
            "2320 this is not a odd number\n"
          ]
        }
      ]
    },
    {
      "cell_type": "code",
      "source": [
        "#key interview question\n",
        "#add all the sums in a list\n",
        "\n",
        "l2 = [12,45,55,88,103]\n",
        "\n",
        "for num in l2:\n",
        "  listSum = listSum + num\n",
        "  \n",
        "print(listSum)"
      ],
      "metadata": {
        "colab": {
          "base_uri": "https://localhost:8080/"
        },
        "id": "AoA3dYliDl-T",
        "outputId": "9bcb2236-fdfb-4e8d-f4f1-745adb50a717"
      },
      "execution_count": 52,
      "outputs": [
        {
          "output_type": "stream",
          "name": "stdout",
          "text": [
            "3954\n"
          ]
        }
      ]
    },
    {
      "cell_type": "code",
      "source": [
        "dy = {'k1': 1, 'k2': 2, 'k3': 3, 'k4': 4}\n",
        "\n",
        "for item in dy:\n",
        "  print(item)"
      ],
      "metadata": {
        "colab": {
          "base_uri": "https://localhost:8080/"
        },
        "id": "tfotADihDl5g",
        "outputId": "7f08f467-c997-4a4f-c4ff-273d717586d6"
      },
      "execution_count": 54,
      "outputs": [
        {
          "output_type": "stream",
          "name": "stdout",
          "text": [
            "k1\n",
            "k2\n",
            "k3\n",
            "k4\n"
          ]
        }
      ]
    },
    {
      "cell_type": "code",
      "source": [
        "for a,b in dy.items():\n",
        "  print(a)\n",
        "  print(b)"
      ],
      "metadata": {
        "colab": {
          "base_uri": "https://localhost:8080/"
        },
        "id": "TbqWLFmPFUUr",
        "outputId": "682f5079-1742-429d-c1ee-d79ee7fe09c2"
      },
      "execution_count": 57,
      "outputs": [
        {
          "output_type": "stream",
          "name": "stdout",
          "text": [
            "k1\n",
            "1\n",
            "k2\n",
            "2\n",
            "k3\n",
            "3\n",
            "k4\n",
            "4\n"
          ]
        }
      ]
    },
    {
      "cell_type": "code",
      "source": [
        ""
      ],
      "metadata": {
        "id": "mOOejXmzFURP"
      },
      "execution_count": null,
      "outputs": []
    },
    {
      "cell_type": "code",
      "source": [
        ""
      ],
      "metadata": {
        "id": "I3l3O0DzGHTh"
      },
      "execution_count": null,
      "outputs": []
    },
    {
      "cell_type": "code",
      "source": [
        ""
      ],
      "metadata": {
        "id": "mPsj7Ot8GHLC"
      },
      "execution_count": null,
      "outputs": []
    }
  ]
}
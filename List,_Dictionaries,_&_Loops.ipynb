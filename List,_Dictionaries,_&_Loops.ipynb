{
  "nbformat": 4,
  "nbformat_minor": 0,
  "metadata": {
    "colab": {
      "name": "List, Dictionaries, & Loops.ipynb",
      "provenance": [],
      "collapsed_sections": [],
      "authorship_tag": "ABX9TyNHte3P7zB6BoACplykmI3H",
      "include_colab_link": true
    },
    "kernelspec": {
      "name": "python3",
      "display_name": "Python 3"
    },
    "language_info": {
      "name": "python"
    }
  },
  "cells": [
    {
      "cell_type": "markdown",
      "metadata": {
        "id": "view-in-github",
        "colab_type": "text"
      },
      "source": [
        "<a href=\"https://colab.research.google.com/github/somezzedup/Micro-Credential-Winter-2022/blob/main/List%2C_Dictionaries%2C_%26_Loops.ipynb\" target=\"_parent\"><img src=\"https://colab.research.google.com/assets/colab-badge.svg\" alt=\"Open In Colab\"/></a>"
      ]
    },
    {
      "cell_type": "markdown",
      "source": [
        "#Looping "
      ],
      "metadata": {
        "id": "SOB5-HrVaBuQ"
      }
    },
    {
      "cell_type": "markdown",
      "source": [
        "# Create a list that holds 5 data variables. "
      ],
      "metadata": {
        "id": "NsIjWaF9aNuo"
      }
    },
    {
      "cell_type": "code",
      "source": [
        "# Create a list that holds 5 data variables. \n",
        "\n",
        "fruits = ['apple','bananna','oranges','strawberry','grapes']"
      ],
      "metadata": {
        "id": "tUxZRJlsaNr0"
      },
      "execution_count": null,
      "outputs": []
    },
    {
      "cell_type": "code",
      "source": [
        "#Print out those variables by using a for loop.\n",
        "\n",
        "for x in fruits:\n",
        "  print(x)"
      ],
      "metadata": {
        "colab": {
          "base_uri": "https://localhost:8080/"
        },
        "id": "dcO3uc6EaNot",
        "outputId": "0b5ce86d-8499-4e06-b727-066d228e0b6e"
      },
      "execution_count": null,
      "outputs": [
        {
          "output_type": "stream",
          "name": "stdout",
          "text": [
            "apple\n",
            "bananna\n",
            "oranges\n",
            "strawberry\n",
            "grapes\n"
          ]
        }
      ]
    },
    {
      "cell_type": "code",
      "source": [
        "#Modify your for loop to add a message to your for loop.\n",
        "\n",
        "for x in fruits: \n",
        "  print(\"I like to eat \" + x)"
      ],
      "metadata": {
        "colab": {
          "base_uri": "https://localhost:8080/"
        },
        "id": "R22pUFwKaNl9",
        "outputId": "7e881106-f8bb-49c3-b514-8478587820d7"
      },
      "execution_count": null,
      "outputs": [
        {
          "output_type": "stream",
          "name": "stdout",
          "text": [
            "I like to eat apple\n",
            "I like to eat bananna\n",
            "I like to eat oranges\n",
            "I like to eat strawberry\n",
            "I like to eat grapes\n"
          ]
        }
      ]
    },
    {
      "cell_type": "code",
      "source": [
        "# Use a for loop to print even numbers from 1-20.\n",
        "l=[1,2,3,4,5,6,7,8,9,10,11,12,13,14,15,16,17,18,19,20]\n",
        "\n",
        "for num in l:\n",
        "  if num % 2 == 0:\n",
        "    print(num)"
      ],
      "metadata": {
        "colab": {
          "base_uri": "https://localhost:8080/"
        },
        "id": "1E-S4JxtaNi8",
        "outputId": "c846f270-f0d4-4fc2-aa92-b7f1fdd5522f"
      },
      "execution_count": null,
      "outputs": [
        {
          "output_type": "stream",
          "name": "stdout",
          "text": [
            "2\n",
            "4\n",
            "6\n",
            "8\n",
            "10\n",
            "12\n",
            "14\n",
            "16\n",
            "18\n",
            "20\n"
          ]
        }
      ]
    },
    {
      "cell_type": "code",
      "source": [
        "# Sort your list in alphabetic order.\n",
        "\n",
        "fruits.sort()\n",
        "print(fruits)\n",
        "  "
      ],
      "metadata": {
        "colab": {
          "base_uri": "https://localhost:8080/"
        },
        "id": "EKLeJFZ6aNfv",
        "outputId": "e5184a42-b98d-4bf5-8467-57f392e592ff"
      },
      "execution_count": null,
      "outputs": [
        {
          "output_type": "stream",
          "name": "stdout",
          "text": [
            "['apple', 'bananna', 'grapes', 'oranges', 'strawberry']\n"
          ]
        }
      ]
    },
    {
      "cell_type": "code",
      "source": [
        "#Print out the first three elements of your list.\n",
        "fruits[:3]"
      ],
      "metadata": {
        "colab": {
          "base_uri": "https://localhost:8080/"
        },
        "id": "A9nouGm7cHeg",
        "outputId": "b03d7f14-f6be-469a-d94f-03e2a3ad553b"
      },
      "execution_count": null,
      "outputs": [
        {
          "output_type": "execute_result",
          "data": {
            "text/plain": [
              "['apple', 'bananna', 'grapes']"
            ]
          },
          "metadata": {},
          "execution_count": 10
        }
      ]
    },
    {
      "cell_type": "code",
      "source": [
        "#Create a loop to print the last 2 elements of your list.\n",
        "\n",
        "fruits[-2:]"
      ],
      "metadata": {
        "colab": {
          "base_uri": "https://localhost:8080/"
        },
        "id": "SNIYcTFQdWor",
        "outputId": "0fba4cf7-5289-47e5-de05-a480385b245e"
      },
      "execution_count": null,
      "outputs": [
        {
          "output_type": "execute_result",
          "data": {
            "text/plain": [
              "['oranges', 'strawberry']"
            ]
          },
          "metadata": {},
          "execution_count": 23
        }
      ]
    },
    {
      "cell_type": "markdown",
      "source": [
        "#Python Dictionaries"
      ],
      "metadata": {
        "id": "oAJnL-xHc62c"
      }
    },
    {
      "cell_type": "code",
      "source": [
        "#Create a simple dictionary that stores 2 variables, for example: first and last name.\n",
        "person = {'first_name': 'John', 'last_name': 'Wick'}"
      ],
      "metadata": {
        "id": "ZtlY1iDjc6zv"
      },
      "execution_count": null,
      "outputs": []
    },
    {
      "cell_type": "code",
      "source": [
        "#Print out those variables stored in your previous dictionary. \n",
        "\n",
        "print(person)"
      ],
      "metadata": {
        "colab": {
          "base_uri": "https://localhost:8080/"
        },
        "id": "-i9LVWGac6xX",
        "outputId": "c754e8b4-0259-4fa2-d370-234d6555d6e2"
      },
      "execution_count": null,
      "outputs": [
        {
          "output_type": "stream",
          "name": "stdout",
          "text": [
            "{'first name': 'John', 'last name': 'Wick'}\n"
          ]
        }
      ]
    },
    {
      "cell_type": "code",
      "source": [
        "#Add a message to those variables on printing: for example: “Hello, firstname lastname!”\n",
        "\n",
        "person['first_name'] = 'John'\n",
        "person['last_name'] = 'Wick'\n",
        "\n",
        "print(\"Hello, \" + person['first_name'] + person['last_name'])"
      ],
      "metadata": {
        "colab": {
          "base_uri": "https://localhost:8080/"
        },
        "id": "sSYba-GAc6uc",
        "outputId": "538fb2bb-f1f9-4bd0-b758-49e0b388eb9e"
      },
      "execution_count": null,
      "outputs": [
        {
          "output_type": "stream",
          "name": "stdout",
          "text": [
            "Hello, JohnWick\n"
          ]
        }
      ]
    },
    {
      "cell_type": "code",
      "source": [
        "#Create a dictionary that holds 2 key: value pairs:\n",
        "#Look through your dictionary and print each pair,\n",
        "\n",
        "\n",
        "for key, value in person.items():\n",
        "  print(key, value)"
      ],
      "metadata": {
        "colab": {
          "base_uri": "https://localhost:8080/"
        },
        "id": "QFU43RNqc6rs",
        "outputId": "e5a6343e-c5b1-4f0c-e7b3-406e8ce890dc"
      },
      "execution_count": null,
      "outputs": [
        {
          "output_type": "stream",
          "name": "stdout",
          "text": [
            "first_name John\n",
            "last_name Wick\n"
          ]
        }
      ]
    },
    {
      "cell_type": "code",
      "source": [
        "#Create a nested dictionary containing three dictionaries – these dictionaries could be anything (favorite pets, travel locations, etc.)\n",
        "# a. Loop through the dictionaries and print a message for each.\n",
        "\n",
        "superheroes =  { 1:{'Name': 'Spiderman', 'Power':'Web'},\n",
        "                 2:{'Name': 'Captain America', 'Power':'Super Serum'},\n",
        "                 3:{'Name': 'Thor', 'Power': 'Lightning'}\n",
        "                }\n",
        "\n",
        "print(\"my favorite superhero is \" + superheroes[1]['Name'] + \" and his power is \" + superheroes[1]['Power'])\n",
        "print(\"my favorite superhero is \" + superheroes[2]['Name'] + \" and his power is \" + superheroes[2]['Power'])\n",
        "print(\"my favorite superhero is \" + superheroes[3]['Name'] + \" and his power is \" + superheroes[3]['Power'])\n",
        "\n"
      ],
      "metadata": {
        "colab": {
          "base_uri": "https://localhost:8080/"
        },
        "id": "T5B6fWNrc6o6",
        "outputId": "1330634d-b3b1-4e31-832b-a0be1907e1c8"
      },
      "execution_count": 63,
      "outputs": [
        {
          "output_type": "stream",
          "name": "stdout",
          "text": [
            "my favorite superhero is Spiderman and his power is Web\n",
            "my favorite superhero is Captain America and his power is Super Serum\n",
            "my favorite superhero is Thor and his power is Lightning\n"
          ]
        }
      ]
    }
  ]
}
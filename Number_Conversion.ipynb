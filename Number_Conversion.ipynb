{
  "nbformat": 4,
  "nbformat_minor": 0,
  "metadata": {
    "colab": {
      "name": "Number Conversion.ipynb",
      "provenance": [],
      "collapsed_sections": [],
      "authorship_tag": "ABX9TyOjKcGlcW5O3B5FEPeLflAy",
      "include_colab_link": true
    },
    "kernelspec": {
      "name": "python3",
      "display_name": "Python 3"
    },
    "language_info": {
      "name": "python"
    }
  },
  "cells": [
    {
      "cell_type": "markdown",
      "metadata": {
        "id": "view-in-github",
        "colab_type": "text"
      },
      "source": [
        "<a href=\"https://colab.research.google.com/github/somezzedup/Micro-Credential-Winter-2022/blob/main/Number_Conversion.ipynb\" target=\"_parent\"><img src=\"https://colab.research.google.com/assets/colab-badge.svg\" alt=\"Open In Colab\"/></a>"
      ]
    },
    {
      "cell_type": "code",
      "execution_count": null,
      "metadata": {
        "colab": {
          "base_uri": "https://localhost:8080/"
        },
        "id": "YDJ_dlr2C0aG",
        "outputId": "0476b503-8ca8-4e55-f255-077a06331e10"
      },
      "outputs": [
        {
          "output_type": "stream",
          "name": "stdout",
          "text": [
            "Enter a number: 3\n",
            "Binary value is 0b11\n",
            "Octal value is 0o3\n",
            "Hexadecimal value is 0x3\n"
          ]
        }
      ],
      "source": [
        "#Convert a number into Binary, Octal, and Hexadecimal \n",
        "\n",
        "num = int(input(\"Enter a number: \"))\n",
        "\n",
        "print(f'Binary value is {bin(num)}')\n",
        "print(f'Octal value is {oct(num)}')\n",
        "print(f'Hexadecimal value is {hex(num)}')\n"
      ]
    }
  ]
}